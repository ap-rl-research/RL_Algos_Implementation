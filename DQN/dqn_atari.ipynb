{
 "cells": [
  {
   "cell_type": "markdown",
   "metadata": {
    "colab_type": "text",
    "id": "AvbTGlS-OTAB"
   },
   "source": [
    "# Deep Q-Network implementation\n",
    "\n",
    "This notebook demonstrates an implementation of a DQN - an approximate q-learning algorithm with experience replay and target networks."
   ]
  },
  {
   "cell_type": "markdown",
   "metadata": {
    "colab_type": "text",
    "id": "-7sdQcLgOTAI"
   },
   "source": [
    "__Frameworks__ - we'll accept this homework in any deep learning framework. This particular notebook was designed for tensorflow 2.0.0, but it can be easily adapted it to almost any python-based deep learning framework."
   ]
  },
  {
   "cell_type": "code",
   "execution_count": 1,
   "metadata": {
    "colab": {},
    "colab_type": "code",
    "id": "8GRnf-wzOTAJ"
   },
   "outputs": [],
   "source": [
    "import gym\n",
    "import numpy as np\n",
    "import pandas as pd\n",
    "from skimage.transform import resize as imresize\n",
    "from skimage import color\n",
    "\n",
    "import matplotlib.pyplot as plt\n",
    "%matplotlib inline"
   ]
  },
  {
   "cell_type": "markdown",
   "metadata": {
    "colab_type": "text",
    "id": "bOk_f1TCOTAL"
   },
   "source": [
    "### Let's play some old videogames\n",
    "![img](https://s17.postimg.cc/y9xcab74f/nerd.png)\n",
    "\n",
    "This time we're gonna apply approximate q-learning to an atari game called Breakout. It's not the hardest thing out there, but it's definitely way more complex than anything we tried before.\n"
   ]
  },
  {
   "cell_type": "markdown",
   "metadata": {
    "colab_type": "text",
    "id": "JhP47xhAOTAM"
   },
   "source": [
    "### Processing game image \n",
    "\n",
    "Raw atari images are large, 210x160x3 by default. However, we don't need that level of detail in order to learn them.\n",
    "\n",
    "We can thus save a lot of time by preprocessing game image, including\n",
    "* Resizing to a smaller shape, 64 x 64\n",
    "* Converting to grayscale\n",
    "* Cropping irrelevant image parts (top & bottom)"
   ]
  },
  {
   "cell_type": "code",
   "execution_count": 2,
   "metadata": {
    "colab": {},
    "colab_type": "code",
    "id": "hf7Sbg_nOTAM"
   },
   "outputs": [],
   "source": [
    "from gym.core import ObservationWrapper\n",
    "from gym.spaces import Box\n",
    "\n",
    "class PreprocessAtari(ObservationWrapper):\n",
    "    def __init__(self, env):\n",
    "        \"\"\"A gym wrapper that crops, scales image into the desired shapes and optionally grayscales it.\"\"\"\n",
    "        ObservationWrapper.__init__(self,env)\n",
    "        \n",
    "        self.img_size = (64, 64, 1)\n",
    "        self.observation_space = Box(0.0, 1.0, self.img_size)\n",
    "\n",
    "    def observation(self, img):\n",
    "        \"\"\"what happens to each observation\"\"\"\n",
    "        img = imresize(img, self.img_size[:2])\n",
    "        img = color.rgb2gray(img).astype(np.float32)\n",
    "        img = np.expand_dims(img, -1)\n",
    "        \n",
    "        \n",
    "        return img\n"
   ]
  },
  {
   "cell_type": "code",
   "execution_count": 3,
   "metadata": {
    "colab": {},
    "colab_type": "code",
    "id": "RHQdH9lM25Z9"
   },
   "outputs": [],
   "source": [
    "from gym.core import Wrapper\n",
    "\n",
    "\n",
    "class FrameBuffer(Wrapper):\n",
    "    def __init__(self, env, n_frames=4, dim_order='tensorflow'):\n",
    "        \"\"\"A gym wrapper that reshapes, crops and scales image into the desired shapes\"\"\"\n",
    "        super(FrameBuffer, self).__init__(env)\n",
    "        self.dim_order = dim_order\n",
    "        if dim_order == 'tensorflow':\n",
    "            height, width, n_channels = env.observation_space.shape\n",
    "            obs_shape = [height, width, n_channels * n_frames]\n",
    "        elif dim_order == 'pytorch':\n",
    "            n_channels, height, width = env.observation_space.shape\n",
    "            obs_shape = [n_channels * n_frames, height, width]\n",
    "        else:\n",
    "            raise ValueError(\n",
    "                'dim_order should be \"tensorflow\" or \"pytorch\", got {}'.format(dim_order))\n",
    "        self.observation_space = Box(0.0, 1.0, obs_shape)\n",
    "        self.framebuffer = np.zeros(obs_shape, 'float32')\n",
    "\n",
    "    def reset(self):\n",
    "        \"\"\"resets breakout, returns initial frames\"\"\"\n",
    "        self.framebuffer = np.zeros_like(self.framebuffer)\n",
    "        self.update_buffer(self.env.reset())\n",
    "        return self.framebuffer\n",
    "\n",
    "    def step(self, action):\n",
    "        \"\"\"plays breakout for 1 step, returns frame buffer\"\"\"\n",
    "        new_img, reward, done, info = self.env.step(action)\n",
    "        self.update_buffer(new_img)\n",
    "        return self.framebuffer, reward, done, info\n",
    "\n",
    "    def update_buffer(self, img):\n",
    "        if self.dim_order == 'tensorflow':\n",
    "            offset = self.env.observation_space.shape[-1]\n",
    "            axis = -1\n",
    "            cropped_framebuffer = self.framebuffer[:, :, :-offset]\n",
    "        elif self.dim_order == 'pytorch':\n",
    "            offset = self.env.observation_space.shape[0]\n",
    "            axis = 0\n",
    "            cropped_framebuffer = self.framebuffer[:-offset]\n",
    "        self.framebuffer = np.concatenate(\n",
    "            [img, cropped_framebuffer], axis=axis)"
   ]
  },
  {
   "cell_type": "code",
   "execution_count": 4,
   "metadata": {
    "colab": {
     "base_uri": "https://localhost:8080/",
     "height": 315
    },
    "colab_type": "code",
    "id": "PB_vFqlLOTAP",
    "outputId": "00a1309a-a196-4514-f445-eb9a9e21d1d6"
   },
   "outputs": [
    {
     "name": "stdout",
     "output_type": "stream",
     "text": [
      "Formal tests seem fine. Here's an example of what you'll get.\n"
     ]
    },
    {
     "data": {
      "text/plain": [
       "<matplotlib.image.AxesImage at 0x13122a6a0>"
      ]
     },
     "execution_count": 4,
     "metadata": {},
     "output_type": "execute_result"
    },
    {
     "data": {
      "image/png": "[encoded data removed]",
      "text/plain": [
       "<Figure size 432x288 with 1 Axes>"
      ]
     },
     "metadata": {
      "needs_background": "light"
     },
     "output_type": "display_data"
    }
   ],
   "source": [
    "import gym\n",
    "#spawn game instance for tests\n",
    "env = gym.make(\"BreakoutDeterministic-v0\") #create raw env\n",
    "env = PreprocessAtari(env)\n",
    "\n",
    "observation_shape = env.observation_space.shape\n",
    "n_actions = env.action_space.n\n",
    "\n",
    "obs = env.reset()\n",
    "\n",
    "#test observation\n",
    "assert obs.ndim == 3, \"observation must be [batch, time, channels] even if there's just one channel\"\n",
    "assert obs.shape == observation_shape\n",
    "assert obs.dtype == 'float32', f\"your image has a type {obs.dtype}\"\n",
    "assert len(np.unique(obs))>2, \"your image must not be binary\"\n",
    "assert 0 <= np.min(obs) and np.max(obs) <=1, \"convert image pixels to (0,1) range\"\n",
    "\n",
    "print(\"Formal tests seem fine. Here's an example of what you'll get.\")\n",
    "\n",
    "plt.title(\"what your network gonna see\")\n",
    "plt.imshow(obs.squeeze(),interpolation='none',cmap='gray')"
   ]
  },
  {
   "cell_type": "markdown",
   "metadata": {
    "colab_type": "text",
    "id": "nnd6pPTvOTAR"
   },
   "source": [
    "### Frame buffer\n",
    "\n",
    "Our agent can only process one observation at a time, so we gotta make sure it contains enough information to fing optimal actions. For instance, agent has to react to moving objects so he must be able to measure object's velocity.\n",
    "\n",
    "To do so, we introduce a buffer that stores 4 last images. This time everything is pre-implemented for you."
   ]
  },
  {
   "cell_type": "code",
   "execution_count": 5,
   "metadata": {
    "colab": {},
    "colab_type": "code",
    "id": "juMIN7tNOTAS"
   },
   "outputs": [],
   "source": [
    "def make_env():\n",
    "    env = gym.make(\"BreakoutDeterministic-v4\")\n",
    "    env = PreprocessAtari(env)\n",
    "    env = FrameBuffer(env, n_frames=4, dim_order='tensorflow')\n",
    "    return env\n",
    "\n",
    "env = make_env()\n",
    "env.reset()\n",
    "n_actions = env.action_space.n\n",
    "state_dim = env.observation_space.shape"
   ]
  },
  {
   "cell_type": "code",
   "execution_count": 6,
   "metadata": {
    "colab": {
     "base_uri": "https://localhost:8080/",
     "height": 412
    },
    "colab_type": "code",
    "id": "twF7Z1KiOTAU",
    "outputId": "263cbc13-73e9-4ee1-f2a4-c239b7ccce64"
   },
   "outputs": [
    {
     "data": {
      "image/png": "[encoded data removed]",
      "text/plain": [
       "<Figure size 432x288 with 1 Axes>"
      ]
     },
     "metadata": {
      "needs_background": "light"
     },
     "output_type": "display_data"
    },
    {
     "data": {
      "image/png": "[encoded data removed]",
      "text/plain": [
       "<Figure size 432x288 with 1 Axes>"
      ]
     },
     "metadata": {
      "needs_background": "light"
     },
     "output_type": "display_data"
    }
   ],
   "source": [
    "for _ in range(50):\n",
    "    obs, _, _, _ = env.step(env.action_space.sample())\n",
    "\n",
    "\n",
    "plt.title(\"Game image\")\n",
    "plt.imshow(env.render(\"rgb_array\"))\n",
    "plt.show()\n",
    "plt.title(\"Agent observation (4 frames left to right)\")\n",
    "plt.imshow(obs.transpose([0,2,1]).reshape([state_dim[0],-1]));"
   ]
  },
  {
   "cell_type": "markdown",
   "metadata": {
    "colab_type": "text",
    "id": "13mRf7l_OTAW"
   },
   "source": [
    "### Building a network\n",
    "\n",
    "We now need to build a neural network that can map images to state q-values. This network will be called on every agent's step so it better not be resnet-152 unless you have an array of GPUs. Instead, you can use strided convolutions with a small number of features to save time and memory.\n",
    "\n",
    "You can build any architecture you want, but for reference, here's something that will more or less work:"
   ]
  },
  {
   "cell_type": "markdown",
   "metadata": {
    "colab_type": "text",
    "id": "Yp1iyXngOTAW"
   },
   "source": [
    "![img](https://s17.postimg.cc/ogg4xo51r/dqn_arch.png)"
   ]
  },
  {
   "cell_type": "code",
   "execution_count": 7,
   "metadata": {
    "colab": {
     "base_uri": "https://localhost:8080/",
     "height": 80
    },
    "colab_type": "code",
    "id": "HIfX2QMvOTAX",
    "outputId": "3e501fe1-ebc7-4735-e33a-6fb105c40712"
   },
   "outputs": [
    {
     "name": "stdout",
     "output_type": "stream",
     "text": [
      "2.0.0\n"
     ]
    }
   ],
   "source": [
    "import tensorflow as tf\n",
    "import tensorflow_addons as tfa\n",
    "print(tf.version.VERSION)\n",
    "tf.compat.v1.logging.set_verbosity(tf.compat.v1.logging.ERROR)"
   ]
  },
  {
   "cell_type": "code",
   "execution_count": 8,
   "metadata": {
    "colab": {
     "base_uri": "https://localhost:8080/",
     "height": 34
    },
    "colab_type": "code",
    "id": "1rY_w23OOTAZ",
    "outputId": "4f50cf8b-49ce-412f-d8da-e538f49d07b2"
   },
   "outputs": [],
   "source": [
    "from tensorflow.keras.layers import Conv2D, SeparableConv2D, Dense, Flatten, Activation, InputLayer, LayerNormalization\n",
    "from tensorflow_addons.layers import WeightNormalization\n",
    "from tensorflow.keras import Sequential\n",
    "class DQNAgent:\n",
    "    def __init__(self, name, state_shape, n_actions, epsilon=0, reuse=False):\n",
    "        \"\"\"A simple DQN agent\"\"\"\n",
    "            \n",
    "        self.model = Sequential([\n",
    "            InputLayer(state_shape),\n",
    "            WeightNormalization(Conv2D(16, kernel_size=3, strides=(2, 2), padding='valid', activation='relu')),\n",
    "            LayerNormalization(),\n",
    "            WeightNormalization(Conv2D(32, kernel_size=3, strides=(2, 2), padding='valid', activation='relu')),\n",
    "            LayerNormalization(),\n",
    "            WeightNormalization(Conv2D(64, kernel_size=3, strides=(2, 2), padding='valid', activation='relu')),\n",
    "            LayerNormalization(),\n",
    "            Flatten(),\n",
    "            WeightNormalization(Dense(128, activation='relu')),\n",
    "            LayerNormalization(),\n",
    "            WeightNormalization(Dense(32, activation='relu')),\n",
    "            LayerNormalization(),\n",
    "            Dense(n_actions)\n",
    "        ], name=name)\n",
    "            \n",
    "        self.weights = self.model.trainable_variables\n",
    "        self.epsilon = epsilon\n",
    "    \n",
    "    def get_qvalues(self, state_t):\n",
    "        \"\"\"Same as symbolic step except it operates on numpy arrays\"\"\"\n",
    "        return self.model.predict(state_t)\n",
    "    \n",
    "    def sample_actions(self, qvalues):\n",
    "        \"\"\"pick actions given qvalues. Uses epsilon-greedy exploration strategy. \"\"\"\n",
    "        epsilon = self.epsilon\n",
    "        batch_size, n_actions = qvalues.shape\n",
    "        random_actions = np.random.choice(n_actions, size=batch_size)\n",
    "        best_actions = qvalues.argmax(axis=-1)\n",
    "        should_explore = np.random.choice([0, 1], batch_size, p = [1-epsilon, epsilon])\n",
    "        return np.where(should_explore, random_actions, best_actions)"
   ]
  },
  {
   "cell_type": "code",
   "execution_count": 9,
   "metadata": {
    "colab": {
     "base_uri": "https://localhost:8080/",
     "height": 343
    },
    "colab_type": "code",
    "id": "_VKf1SIzOTAb",
    "outputId": "079dd557-e02d-4142-87eb-09635240d962"
   },
   "outputs": [],
   "source": [
    "agent = DQNAgent(\"dqn_agent\", state_dim, n_actions, epsilon=0.5)"
   ]
  },
  {
   "cell_type": "markdown",
   "metadata": {
    "colab_type": "text",
    "id": "Op8o3FImOTAd"
   },
   "source": [
    "Now let's try out our agent to see if it raises any errors."
   ]
  },
  {
   "cell_type": "code",
   "execution_count": 10,
   "metadata": {
    "colab": {},
    "colab_type": "code",
    "id": "E5EyzxS6OTAd"
   },
   "outputs": [],
   "source": [
    "def safe_reset(env):\n",
    "    if hasattr(env, 'stats_recorder'):\n",
    "        env.stats_recorder.done = None\n",
    "    return env.reset()\n",
    "\n",
    "def evaluate(env, agent, n_games=1, greedy=False, t_max=10000):\n",
    "    \"\"\" Plays n_games full games. If greedy, picks actions as argmax(qvalues). Returns mean reward. \"\"\"\n",
    "    rewards = []\n",
    "    for _ in range(n_games):\n",
    "        s = safe_reset(env)\n",
    "        reward = 0\n",
    "        for _ in range(t_max):\n",
    "            qvalues = agent.get_qvalues(np.array([s]))\n",
    "            action = qvalues.argmax(axis=-1)[0] if greedy else agent.sample_actions(qvalues)[0]\n",
    "            s, r, done, _ = env.step(action)\n",
    "            reward += r\n",
    "            if done: break\n",
    "                \n",
    "        rewards.append(reward)\n",
    "    return np.mean(rewards)"
   ]
  },
  {
   "cell_type": "code",
   "execution_count": 11,
   "metadata": {
    "colab": {
     "base_uri": "https://localhost:8080/",
     "height": 34
    },
    "colab_type": "code",
    "id": "8mFDAuvIOTAf",
    "outputId": "b67e7828-febf-4481-9288-e0ad8cf561fe"
   },
   "outputs": [
    {
     "data": {
      "text/plain": [
       "1.0"
      ]
     },
     "execution_count": 11,
     "metadata": {},
     "output_type": "execute_result"
    }
   ],
   "source": [
    "evaluate(env, agent, n_games=1)"
   ]
  },
  {
   "cell_type": "markdown",
   "metadata": {
    "colab_type": "text",
    "id": "79BTp9HzOTAj"
   },
   "source": [
    "### Experience replay\n",
    "For this assignment, we provide you with experience replay buffer. If you implemented experience replay buffer in last week's assignment, you can copy-paste it here __to get 2 bonus points__.\n",
    "\n",
    "![img](https://s17.postimg.cc/ms4zvqj4v/exp_replay.png)"
   ]
  },
  {
   "cell_type": "markdown",
   "metadata": {
    "colab_type": "text",
    "id": "YNdyl9BUOTAj"
   },
   "source": [
    "#### The interface is fairly simple:\n",
    "* `exp_replay.add(obs, act, rw, next_obs, done)` - saves (s,a,r,s',done) tuple into the buffer\n",
    "* `exp_replay.sample(batch_size)` - returns observations, actions, rewards, next_observations and is_done for `batch_size` random samples.\n",
    "* `len(exp_replay)` - returns number of elements stored in replay buffer."
   ]
  },
  {
   "cell_type": "code",
   "execution_count": 12,
   "metadata": {
    "colab": {},
    "colab_type": "code",
    "id": "8jXFW9W26Orp"
   },
   "outputs": [],
   "source": [
    "import random\n",
    "\n",
    "\n",
    "class ReplayBuffer(object):\n",
    "    def __init__(self, size):\n",
    "        \"\"\"Create Replay buffer.\n",
    "        Parameters\n",
    "        ----------\n",
    "        size: int\n",
    "            Max number of transitions to store in the buffer. When the buffer\n",
    "            overflows the old memories are dropped.\n",
    "        \"\"\"\n",
    "        self._storage = []\n",
    "        self._maxsize = size\n",
    "        self._next_idx = 0\n",
    "\n",
    "    def __len__(self):\n",
    "        return len(self._storage)\n",
    "\n",
    "    def add(self, obs_t, action, reward, obs_tp1, done):\n",
    "        data = (obs_t, action, reward, obs_tp1, done)\n",
    "\n",
    "        if self._next_idx >= len(self._storage):\n",
    "            self._storage.append(data)\n",
    "        else:\n",
    "            self._storage[self._next_idx] = data\n",
    "        self._next_idx = (self._next_idx + 1) % self._maxsize\n",
    "\n",
    "    def _encode_sample(self, idxes):\n",
    "        obses_t, actions, rewards, obses_tp1, dones = [], [], [], [], []\n",
    "        for i in idxes:\n",
    "            data = self._storage[i]\n",
    "            obs_t, action, reward, obs_tp1, done = data\n",
    "            obses_t.append(np.array(obs_t, copy=False))\n",
    "            actions.append(np.array(action, copy=False))\n",
    "            rewards.append(reward)\n",
    "            obses_tp1.append(np.array(obs_tp1, copy=False))\n",
    "            dones.append(done)\n",
    "        return (\n",
    "            np.array(obses_t),\n",
    "            np.array(actions),\n",
    "            np.array(rewards),\n",
    "            np.array(obses_tp1),\n",
    "            np.array(dones)\n",
    "        )\n",
    "\n",
    "    def sample(self, batch_size):\n",
    "        \"\"\"Sample a batch of experiences.\n",
    "        Parameters\n",
    "        ----------\n",
    "        batch_size: int\n",
    "            How many transitions to sample.\n",
    "        Returns\n",
    "        -------\n",
    "        obs_batch: np.array\n",
    "            batch of observations\n",
    "        act_batch: np.array\n",
    "            batch of actions executed given obs_batch\n",
    "        rew_batch: np.array\n",
    "            rewards received as results of executing act_batch\n",
    "        next_obs_batch: np.array\n",
    "            next set of observations seen after executing act_batch\n",
    "        done_mask: np.array\n",
    "            done_mask[i] = 1 if executing act_batch[i] resulted in\n",
    "            the end of an episode and 0 otherwise.\n",
    "        \"\"\"\n",
    "        idxes = [\n",
    "            random.randint(0, len(self._storage) - 1)\n",
    "            for _ in range(batch_size)\n",
    "        ]\n",
    "        return self._encode_sample(idxes)"
   ]
  },
  {
   "cell_type": "code",
   "execution_count": 13,
   "metadata": {
    "colab": {},
    "colab_type": "code",
    "id": "aZm6l1iHOTAk"
   },
   "outputs": [],
   "source": [
    "exp_replay = ReplayBuffer(10)\n",
    "\n",
    "for _ in range(30):\n",
    "    exp_replay.add(env.reset(), env.action_space.sample(), 1.0, env.reset(), done=False)\n",
    "\n",
    "obs_batch, act_batch, reward_batch, next_obs_batch, is_done_batch = exp_replay.sample(5)\n",
    "\n",
    "assert len(exp_replay) == 10, \"experience replay size should be 10 because that's what maximum capacity is\""
   ]
  },
  {
   "cell_type": "code",
   "execution_count": 14,
   "metadata": {
    "colab": {},
    "colab_type": "code",
    "id": "_r75K5FROTAm"
   },
   "outputs": [],
   "source": [
    "def play_and_record(agent, env, exp_replay, n_steps=1):\n",
    "    \"\"\"\n",
    "    Play the game for exactly n steps, record every (s,a,r,s', done) to replay buffer. \n",
    "    Whenever game ends, add record with done=True and reset the game.\n",
    "    :returns: return sum of rewards over time\n",
    "    \n",
    "    Note: please do not env.reset() unless env is done.\n",
    "    It is guaranteed that env has done=False when passed to this function.\n",
    "    \"\"\"\n",
    "    # State at the beginning of rollout\n",
    "    reward = 0\n",
    "    s = env.framebuffer\n",
    "    \n",
    "    # Play the game for n_steps as per instructions above\n",
    "    for _ in range(n_steps):\n",
    "        qvalues = agent.get_qvalues(np.array([s]))\n",
    "        action = agent.sample_actions(qvalues)[0]\n",
    "        s_hat, r, done, _ = env.step(action)\n",
    "        reward += r\n",
    "        exp_replay.add(s, action, r, s_hat, done)\n",
    "        s = s_hat\n",
    "        if done: \n",
    "            s = env.reset()"
   ]
  },
  {
   "cell_type": "code",
   "execution_count": 15,
   "metadata": {
    "colab": {
     "base_uri": "https://localhost:8080/",
     "height": 34
    },
    "colab_type": "code",
    "id": "gDkyBqOZOTAo",
    "outputId": "ee41131c-632e-4692-8f5d-1f4342d11ce8"
   },
   "outputs": [
    {
     "name": "stdout",
     "output_type": "stream",
     "text": [
      "Well done!\n"
     ]
    }
   ],
   "source": [
    "# testing your code. This may take a minute...\n",
    "exp_replay = ReplayBuffer(1000)\n",
    "\n",
    "play_and_record(agent, env, exp_replay, n_steps=1000)\n",
    "\n",
    "# if you're using your own experience replay buffer, some of those tests may need correction. \n",
    "# just make sure you know what your code does\n",
    "assert len(exp_replay) == 1000, \"play_and_record should have added exactly 1000 steps, \"\\\n",
    "                                 \"but instead added %i\"%len(exp_replay)\n",
    "is_dones = list(zip(*exp_replay._storage))[-1]\n",
    "\n",
    "assert 0 < np.mean(is_dones) < 0.1, \"Please make sure you restart the game whenever it is 'done' and record the is_done correctly into the buffer.\"\\\n",
    "                                    \"Got %f is_done rate over %i steps. [If you think it's your tough luck, just re-run the test]\"%(np.mean(is_dones), len(exp_replay))\n",
    "    \n",
    "for _ in range(100):\n",
    "    obs_batch, act_batch, reward_batch, next_obs_batch, is_done_batch = exp_replay.sample(10)\n",
    "    assert obs_batch.shape == next_obs_batch.shape == (10,) + state_dim\n",
    "    assert act_batch.shape == (10,), \"actions batch should have shape (10,) but is instead %s\"%str(act_batch.shape)\n",
    "    assert reward_batch.shape == (10,), \"rewards batch should have shape (10,) but is instead %s\"%str(reward_batch.shape)\n",
    "    assert is_done_batch.shape == (10,), \"is_done batch should have shape (10,) but is instead %s\"%str(is_done_batch.shape)\n",
    "    assert [int(i) in (0,1) for i in is_dones], \"is_done should be strictly True or False\"\n",
    "    assert [0 <= a <= n_actions for a in act_batch], \"actions should be within [0, n_actions]\"\n",
    "    \n",
    "print(\"Well done!\")"
   ]
  },
  {
   "cell_type": "markdown",
   "metadata": {
    "colab_type": "text",
    "id": "N0na79OjOTAq"
   },
   "source": [
    "### Target networks\n",
    "\n",
    "We also employ the so called \"target network\" - a copy of neural network weights to be used for reference Q-values:\n",
    "\n",
    "The network itself is an exact copy of agent network, but it's parameters are not trained. Instead, they are moved here from agent's actual network every so often.\n",
    "\n",
    "$$ Q_{reference}(s,a) = r + \\gamma \\cdot \\max _{a'} Q_{target}(s',a') $$\n",
    "\n",
    "![img](https://s17.postimg.cc/x3hcoi5q7/taget_net.png)\n",
    "\n"
   ]
  },
  {
   "cell_type": "code",
   "execution_count": 16,
   "metadata": {
    "colab": {},
    "colab_type": "code",
    "id": "QLHCvxVhOTAr"
   },
   "outputs": [],
   "source": [
    "target_network = DQNAgent(\"target_network\", state_dim, n_actions)"
   ]
  },
  {
   "cell_type": "code",
   "execution_count": 17,
   "metadata": {
    "colab": {},
    "colab_type": "code",
    "id": "4UrxznfzOTAt"
   },
   "outputs": [],
   "source": [
    "def load_weigths_into_target_network(agent, target_network) -> None:\n",
    "    \"\"\" assign target_network.weights variables to their respective agent.weights values. \"\"\"\n",
    "    a_w = agent.model.variables\n",
    "    t_w = target_network.model.variables\n",
    "    for i in range(len(a_w)):\n",
    "        t_w[i].assign(a_w[i])"
   ]
  },
  {
   "cell_type": "code",
   "execution_count": 18,
   "metadata": {
    "colab": {
     "base_uri": "https://localhost:8080/",
     "height": 34
    },
    "colab_type": "code",
    "id": "KTW8Fh5QOTAv",
    "outputId": "cb3f67da-e0e7-4ba4-a1f1-7788799c8a83"
   },
   "outputs": [],
   "source": [
    "load_weigths_into_target_network(agent, target_network) \n",
    "\n",
    "# check that it works\n",
    "for i in range(len(agent.weights)):\n",
    "    np.testing.assert_array_equal(agent.weights[i].numpy(), target_network.weights[i].numpy())"
   ]
  },
  {
   "cell_type": "markdown",
   "metadata": {
    "colab_type": "text",
    "id": "Otd2dnIIOTA1"
   },
   "source": [
    "### Learning with... Q-learning\n",
    "Here we write a function similar to `agent.update` from tabular q-learning."
   ]
  },
  {
   "cell_type": "markdown",
   "metadata": {
    "colab_type": "text",
    "id": "A2jNNOZ5OTA3"
   },
   "source": [
    "Take q-values for actions agent just took"
   ]
  },
  {
   "cell_type": "markdown",
   "metadata": {
    "colab_type": "text",
    "id": "TOUUB-8nOTA5"
   },
   "source": [
    "Compute Q-learning TD error:\n",
    "\n",
    "$$ L = { 1 \\over N} \\sum_i [ Q_{\\theta}(s,a) - Q_{reference}(s,a) ] ^2 $$\n",
    "\n",
    "With Q-reference defined as\n",
    "\n",
    "$$ Q_{reference}(s,a) = r(s,a) + \\gamma \\cdot max_{a'} Q_{target}(s', a') $$\n",
    "\n",
    "Where\n",
    "* $Q_{target}(s',a')$ denotes q-value of next state and next action predicted by __target_network__\n",
    "* $s, a, r, s'$ are current state, action, reward and next state respectively\n",
    "* $\\gamma$ is a discount factor defined two cells above."
   ]
  },
  {
   "cell_type": "code",
   "execution_count": 19,
   "metadata": {
    "colab": {},
    "colab_type": "code",
    "id": "xzZc-fpQOTA1"
   },
   "outputs": [],
   "source": [
    "# placeholders that will be fed with exp_replay.sample(batch_size)\n",
    "gamma = 0.99"
   ]
  },
  {
   "cell_type": "code",
   "execution_count": 20,
   "metadata": {
    "colab": {
     "base_uri": "https://localhost:8080/",
     "height": 88
    },
    "colab_type": "code",
    "id": "mfdLim1KOTA6",
    "outputId": "15e18799-7b96-41f4-e61c-270aa17fda08"
   },
   "outputs": [],
   "source": [
    "optimizer = tf.optimizers.Adam(1e-3)"
   ]
  },
  {
   "cell_type": "markdown",
   "metadata": {
    "colab_type": "text",
    "id": "pcDqh8_VOTA_"
   },
   "source": [
    "### Main loop\n",
    "\n",
    "It's time to put everything together and see if it learns anything."
   ]
  },
  {
   "cell_type": "code",
   "execution_count": 21,
   "metadata": {
    "colab": {},
    "colab_type": "code",
    "id": "ZlLn2B-0OTA_"
   },
   "outputs": [],
   "source": [
    "from tqdm import trange\n",
    "from IPython.display import clear_output\n",
    "import matplotlib.pyplot as plt\n",
    "from pandas import DataFrame\n",
    "moving_average = lambda x, span, **kw: DataFrame({'x':np.asarray(x)}).x.ewm(span=span, **kw).mean().values\n",
    "%matplotlib inline\n",
    "\n",
    "mean_rw_history = []\n",
    "td_loss_history = []"
   ]
  },
  {
   "cell_type": "code",
   "execution_count": 22,
   "metadata": {
    "colab": {},
    "colab_type": "code",
    "id": "vN0aDzi1OTBB"
   },
   "outputs": [],
   "source": [
    "exp_replay = ReplayBuffer(10**4)\n",
    "play_and_record(agent, env, exp_replay, n_steps=1000)\n",
    "\n",
    "def sample_batch(exp_replay, batch_size):\n",
    "    obs_batch, act_batch, reward_batch, next_obs_batch, is_done_batch = exp_replay.sample(batch_size)\n",
    "    return {\n",
    "        's': obs_batch, 'a':act_batch, 'r':reward_batch, \n",
    "        's_next':next_obs_batch, 'done':is_done_batch\n",
    "    }"
   ]
  },
  {
   "cell_type": "code",
   "execution_count": 23,
   "metadata": {},
   "outputs": [],
   "source": [
    "@tf.function(\n",
    "    input_signature=(\n",
    "        tf.TensorSpec(shape=[None, None, None, 4], dtype=tf.float32),\n",
    "        tf.TensorSpec(shape=[None], dtype=tf.int32),\n",
    "        tf.TensorSpec(shape=[None], dtype=tf.float32),\n",
    "        tf.TensorSpec(shape=[None, None, None, 4], dtype=tf.float32),\n",
    "        tf.TensorSpec(shape=[None], dtype=tf.float32),\n",
    "    )\n",
    ")\n",
    "def train_step(obs_ph, actions_ph, rewards_ph, next_obs_ph, is_done_ph):\n",
    "    \n",
    "    is_not_done = 1 - is_done_ph\n",
    "    \n",
    "    # compute q-values for NEXT states with target network\n",
    "    q_next = target_network.model(next_obs_ph)\n",
    "\n",
    "    # compute state values by taking max over next_qvalues_target for all actions\n",
    "    q_next = tf.reduce_max(q_next, axis=1)\n",
    "\n",
    "    # compute Q_reference(s,a) as per formula above.\n",
    "    q_next = rewards_ph + gamma * q_next * is_not_done\n",
    "    \n",
    "    with tf.GradientTape() as tape:\n",
    "        \n",
    "        q = agent.model(obs_ph)\n",
    "        q = tf.reduce_sum(tf.one_hot(actions_ph, n_actions) * q, axis=1)\n",
    "        \n",
    "        loss_t = tf.reduce_mean((q-tf.stop_gradient(q_next))**2)\n",
    "    \n",
    "    agent_gradients = tape.gradient(loss_t, agent.weights)\n",
    "    optimizer.apply_gradients(zip(agent_gradients, agent.weights))\n",
    "    \n",
    "    return loss_t"
   ]
  },
  {
   "cell_type": "code",
   "execution_count": 25,
   "metadata": {
    "colab": {
     "base_uri": "https://localhost:8080/",
     "height": 51
    },
    "colab_type": "code",
    "id": "vKGhfCfzOTBD",
    "outputId": "b37d08b7-b756-4c61-d9b2-5316785596fd"
   },
   "outputs": [
    {
     "name": "stdout",
     "output_type": "stream",
     "text": [
      "buffer size = 10000, epsilon = 0.02189\n"
     ]
    },
    {
     "data": {
      "image/png": "[encoded data removed]",
      "text/plain": [
       "<Figure size 648x288 with 2 Axes>"
      ]
     },
     "metadata": {
      "needs_background": "light"
     },
     "output_type": "display_data"
    },
    {
     "name": "stderr",
     "output_type": "stream",
     "text": [
      "\n",
      "  2%|▏         | 2401/100000 [07:12<7:23:43,  3.67it/s]\u001b[A\n",
      "  2%|▏         | 2402/100000 [07:12<6:25:54,  4.22it/s]\u001b[A\n",
      "  2%|▏         | 2403/100000 [07:12<5:45:20,  4.71it/s]\u001b[A\n",
      "  2%|▏         | 2404/100000 [07:12<5:17:08,  5.13it/s]\u001b[A\n",
      "  2%|▏         | 2405/100000 [07:12<4:55:53,  5.50it/s]\u001b[A\n",
      "  2%|▏         | 2406/100000 [07:13<4:41:35,  5.78it/s]\u001b[A\n",
      "  2%|▏         | 2407/100000 [07:13<4:33:44,  5.94it/s]\u001b[A\n",
      "  2%|▏         | 2408/100000 [07:13<4:24:42,  6.14it/s]\u001b[A\n",
      "  2%|▏         | 2409/100000 [07:13<4:19:45,  6.26it/s]\u001b[A\n",
      "  2%|▏         | 2410/100000 [07:13<4:17:35,  6.31it/s]\u001b[A\n",
      "  2%|▏         | 2411/100000 [07:13<4:14:40,  6.39it/s]\u001b[A\n",
      "  2%|▏         | 2412/100000 [07:13<4:10:54,  6.48it/s]\u001b[A\n",
      "  2%|▏         | 2413/100000 [07:14<4:10:15,  6.50it/s]\u001b[A\n",
      "  2%|▏         | 2414/100000 [07:14<4:12:31,  6.44it/s]\u001b[A\n",
      "  2%|▏         | 2415/100000 [07:14<4:14:33,  6.39it/s]\u001b[A\n",
      "  2%|▏         | 2416/100000 [07:14<4:15:27,  6.37it/s]\u001b[A\n",
      "  2%|▏         | 2417/100000 [07:14<4:18:44,  6.29it/s]\u001b[A\n",
      "  2%|▏         | 2418/100000 [07:14<4:22:13,  6.20it/s]\u001b[A\n",
      "  2%|▏         | 2419/100000 [07:15<4:22:04,  6.21it/s]\u001b[A\n",
      "  2%|▏         | 2420/100000 [07:15<4:26:27,  6.10it/s]\u001b[A\n",
      "  2%|▏         | 2421/100000 [07:15<4:26:40,  6.10it/s]\u001b[A\n",
      "  2%|▏         | 2422/100000 [07:15<4:29:18,  6.04it/s]\u001b[A\n",
      "  2%|▏         | 2423/100000 [07:15<4:28:53,  6.05it/s]\u001b[A\n",
      "  2%|▏         | 2424/100000 [07:15<4:29:52,  6.03it/s]\u001b[A\n",
      "  2%|▏         | 2425/100000 [07:16<4:35:17,  5.91it/s]\u001b[A\n",
      "  2%|▏         | 2426/100000 [07:16<4:30:15,  6.02it/s]\u001b[A\n",
      "  2%|▏         | 2427/100000 [07:16<4:32:41,  5.96it/s]\u001b[A\n",
      "  2%|▏         | 2428/100000 [07:16<4:34:11,  5.93it/s]\u001b[A\n",
      "  2%|▏         | 2429/100000 [07:16<4:28:00,  6.07it/s]\u001b[A\n",
      "  2%|▏         | 2430/100000 [07:16<4:24:19,  6.15it/s]\u001b[A\n",
      "  2%|▏         | 2431/100000 [07:17<4:22:45,  6.19it/s]\u001b[A\n",
      "  2%|▏         | 2432/100000 [07:17<4:18:30,  6.29it/s]\u001b[A\n",
      "  2%|▏         | 2433/100000 [07:17<4:17:29,  6.32it/s]\u001b[A\n",
      "  2%|▏         | 2434/100000 [07:17<4:18:09,  6.30it/s]\u001b[A\n",
      "  2%|▏         | 2435/100000 [07:17<4:19:41,  6.26it/s]\u001b[A\n",
      "  2%|▏         | 2436/100000 [07:17<4:21:39,  6.21it/s]\u001b[A\n",
      "  2%|▏         | 2437/100000 [07:18<4:19:36,  6.26it/s]\u001b[A\n",
      "  2%|▏         | 2438/100000 [07:18<4:20:08,  6.25it/s]\u001b[A\n",
      "  2%|▏         | 2439/100000 [07:18<4:17:00,  6.33it/s]\u001b[A\n",
      "  2%|▏         | 2440/100000 [07:18<4:15:32,  6.36it/s]\u001b[A\n",
      "  2%|▏         | 2441/100000 [07:18<4:13:41,  6.41it/s]\u001b[A\n",
      "  2%|▏         | 2442/100000 [07:18<4:11:59,  6.45it/s]\u001b[A\n",
      "  2%|▏         | 2443/100000 [07:18<4:11:31,  6.46it/s]\u001b[A\n",
      "  2%|▏         | 2444/100000 [07:19<4:11:29,  6.47it/s]\u001b[A\n",
      "  2%|▏         | 2445/100000 [07:19<4:09:50,  6.51it/s]\u001b[A\n",
      "  2%|▏         | 2446/100000 [07:19<4:11:29,  6.46it/s]\u001b[A\n",
      "  2%|▏         | 2447/100000 [07:19<4:10:59,  6.48it/s]\u001b[A\n",
      "  2%|▏         | 2448/100000 [07:19<4:10:24,  6.49it/s]\u001b[A\n",
      "  2%|▏         | 2449/100000 [07:19<4:12:46,  6.43it/s]\u001b[A\n",
      "  2%|▏         | 2450/100000 [07:20<4:14:24,  6.39it/s]\u001b[A\n",
      "  2%|▏         | 2451/100000 [07:20<4:15:48,  6.36it/s]\u001b[A\n",
      "  2%|▏         | 2452/100000 [07:20<4:15:20,  6.37it/s]\u001b[A\n",
      "  2%|▏         | 2453/100000 [07:20<4:14:23,  6.39it/s]\u001b[A\n",
      "  2%|▏         | 2454/100000 [07:20<4:13:51,  6.40it/s]\u001b[A\n",
      "  2%|▏         | 2455/100000 [07:20<4:14:06,  6.40it/s]\u001b[A\n",
      "  2%|▏         | 2456/100000 [07:20<4:14:38,  6.38it/s]\u001b[A\n",
      "  2%|▏         | 2457/100000 [07:21<4:16:12,  6.35it/s]\u001b[A\n",
      "  2%|▏         | 2458/100000 [07:21<4:17:00,  6.33it/s]\u001b[A\n",
      "  2%|▏         | 2459/100000 [07:21<4:16:31,  6.34it/s]\u001b[A\n",
      "  2%|▏         | 2460/100000 [07:21<4:28:47,  6.05it/s]\u001b[A\n",
      "  2%|▏         | 2461/100000 [07:21<4:27:55,  6.07it/s]\u001b[A\n",
      "  2%|▏         | 2462/100000 [07:21<4:21:54,  6.21it/s]\u001b[A\n",
      "  2%|▏         | 2463/100000 [07:22<4:20:12,  6.25it/s]\u001b[A\n",
      "  2%|▏         | 2464/100000 [07:22<4:17:01,  6.32it/s]\u001b[A\n",
      "  2%|▏         | 2465/100000 [07:22<4:14:09,  6.40it/s]\u001b[A\n",
      "  2%|▏         | 2466/100000 [07:22<4:13:58,  6.40it/s]\u001b[A\n",
      "  2%|▏         | 2467/100000 [07:22<4:11:47,  6.46it/s]\u001b[A\n",
      "  2%|▏         | 2468/100000 [07:22<4:12:33,  6.44it/s]\u001b[A\n",
      "  2%|▏         | 2469/100000 [07:23<4:12:41,  6.43it/s]\u001b[A\n",
      "  2%|▏         | 2470/100000 [07:23<4:11:35,  6.46it/s]\u001b[A\n",
      "  2%|▏         | 2471/100000 [07:23<4:12:37,  6.43it/s]\u001b[A\n",
      "  2%|▏         | 2472/100000 [07:23<4:11:30,  6.46it/s]\u001b[A\n",
      "  2%|▏         | 2473/100000 [07:23<4:31:32,  5.99it/s]\u001b[A\n",
      "  2%|▏         | 2474/100000 [07:23<4:26:06,  6.11it/s]\u001b[A\n",
      "  2%|▏         | 2475/100000 [07:24<4:22:48,  6.18it/s]\u001b[A\n",
      "  2%|▏         | 2476/100000 [07:24<4:18:59,  6.28it/s]\u001b[A\n",
      "  2%|▏         | 2477/100000 [07:24<4:18:35,  6.29it/s]\u001b[A\n",
      "  2%|▏         | 2478/100000 [07:24<4:15:21,  6.36it/s]\u001b[A\n",
      "  2%|▏         | 2479/100000 [07:24<4:15:08,  6.37it/s]\u001b[A\n",
      "  2%|▏         | 2480/100000 [07:24<4:14:50,  6.38it/s]\u001b[A\n",
      "  2%|▏         | 2481/100000 [07:24<4:12:24,  6.44it/s]\u001b[A\n",
      "  2%|▏         | 2482/100000 [07:25<4:11:26,  6.46it/s]\u001b[A\n",
      "  2%|▏         | 2483/100000 [07:25<4:09:48,  6.51it/s]\u001b[A\n",
      "  2%|▏         | 2484/100000 [07:25<4:10:49,  6.48it/s]\u001b[A\n",
      "  2%|▏         | 2485/100000 [07:25<4:10:32,  6.49it/s]\u001b[A\n",
      "  2%|▏         | 2486/100000 [07:25<4:11:47,  6.45it/s]\u001b[A\n",
      "  2%|▏         | 2487/100000 [07:25<4:19:19,  6.27it/s]\u001b[A\n",
      "  2%|▏         | 2488/100000 [07:26<4:18:22,  6.29it/s]\u001b[A\n",
      "  2%|▏         | 2489/100000 [07:26<4:18:17,  6.29it/s]\u001b[A\n",
      "  2%|▏         | 2490/100000 [07:26<4:15:32,  6.36it/s]\u001b[A\n",
      "  2%|▏         | 2491/100000 [07:26<4:13:14,  6.42it/s]\u001b[A\n",
      "  2%|▏         | 2492/100000 [07:26<4:10:03,  6.50it/s]\u001b[A\n",
      "  2%|▏         | 2493/100000 [07:26<4:08:17,  6.55it/s]\u001b[A\n",
      "  2%|▏         | 2494/100000 [07:26<4:08:08,  6.55it/s]\u001b[A\n",
      "  2%|▏         | 2495/100000 [07:27<4:09:29,  6.51it/s]\u001b[A\n",
      "  2%|▏         | 2496/100000 [07:27<4:11:01,  6.47it/s]\u001b[A\n",
      "  2%|▏         | 2497/100000 [07:27<4:10:35,  6.48it/s]\u001b[A\n",
      "  2%|▏         | 2498/100000 [07:27<4:10:08,  6.50it/s]\u001b[A\n",
      "  2%|▏         | 2499/100000 [07:27<4:10:02,  6.50it/s]\u001b[A\n",
      "  2%|▎         | 2500/100000 [07:27<4:08:42,  6.53it/s]\u001b[A"
     ]
    }
   ],
   "source": [
    "td_loss_container = []\n",
    "\n",
    "for i in trange(10**5):\n",
    "    \n",
    "    # play\n",
    "    play_and_record(agent, env, exp_replay, 10)\n",
    "    \n",
    "    # train\n",
    "    samples = sample_batch(exp_replay, batch_size=32)\n",
    "    loss_t = train_step(obs_ph=np.array(samples['s'], dtype=np.float32), \n",
    "                        actions_ph=np.array(samples['a'], dtype=np.int32), \n",
    "                        rewards_ph=np.array(samples['r'], dtype=np.float32), \n",
    "                        next_obs_ph=np.array(samples['s_next'], dtype=np.float32), \n",
    "                        is_done_ph=np.array(samples['done'], dtype=np.float32)).numpy()\n",
    "\n",
    "    if i < 500:\n",
    "        td_loss_container.append(0)\n",
    "    else:\n",
    "        td_loss_container.append(loss_t)\n",
    "    \n",
    "    # adjust agent parameters\n",
    "    if i % 500 == 0:\n",
    "        load_weigths_into_target_network(agent, target_network) \n",
    "        mean_rw_history.append(evaluate(make_env(), agent, n_games=3))\n",
    "        if np.mean(mean_rw_history[-10:]) > 12:\n",
    "          break\n",
    "        agent.epsilon = max(agent.epsilon * 0.985, 0.01)\n",
    "    \n",
    "    if i % 100 == 0:\n",
    "        td_loss_history.append(np.mean(td_loss_container))\n",
    "        td_loss_container = []\n",
    "        clear_output(True)\n",
    "        print(\"buffer size = %i, epsilon = %.5f\" % (len(exp_replay), agent.epsilon))\n",
    "        \n",
    "        plt.figure(figsize=[9, 4])\n",
    "        plt.subplot(1,2,1)\n",
    "        plt.title(\"mean reward per game\")\n",
    "        plt.plot(mean_rw_history)\n",
    "        plt.plot(moving_average(np.array(mean_rw_history), span=10, min_periods=3), marker='o', markevery=5)\n",
    "        plt.grid()\n",
    "\n",
    "        assert not np.isnan(loss_t)\n",
    "        plt.subplot(1,2,2)\n",
    "        plt.title(\"TD loss history (moving average)\")\n",
    "        plt.plot(td_loss_history)\n",
    "        plt.plot(moving_average(np.array(td_loss_history), span=10, min_periods=10), marker='o', markevery=10)\n",
    "        plt.grid()\n",
    "        plt.show()"
   ]
  },
  {
   "cell_type": "code",
   "execution_count": 26,
   "metadata": {
    "colab": {},
    "colab_type": "code",
    "id": "4sF-N2NOOTBF"
   },
   "outputs": [
    {
     "name": "stdout",
     "output_type": "stream",
     "text": [
      "That's good enough for tutorial.\n"
     ]
    }
   ],
   "source": [
    "assert np.mean(mean_rw_history[-10:]) > 10, f\"The result must be greater than 10. Your result is {np.mean(mean_rw_history[-10:])}\"\n",
    "print(\"That's good enough for tutorial.\")"
   ]
  },
  {
   "cell_type": "markdown",
   "metadata": {
    "colab_type": "text",
    "id": "mC1IaXGJOTBH"
   },
   "source": [
    "__ How to interpret plots: __\n",
    "\n",
    "\n",
    "This aint no supervised learning so don't expect anything to improve monotonously. \n",
    "* __ TD loss __ is the MSE between agent's current Q-values and target Q-values. It may slowly increase or decrease, it's ok. The \"not ok\" behavior includes going NaN or stayng at exactly zero before agent has perfect performance.\n",
    "* __ mean reward__ is the expected sum of r(s,a) agent gets over the full game session. It will oscillate, but on average it should get higher over time (after a few thousand iterations...). \n",
    " * In basic q-learning implementation it takes 5-10k steps to \"warm up\" agent before it starts to get better.\n",
    "* __ buffer size__ - this one is simple. It should go up and cap at max size.\n",
    "* __ epsilon__ - agent's willingness to explore. If you see that agent's already at 0.01 epsilon before it's average reward is above 0 - __ it means you need to increase epsilon__. Set it back to some 0.2 - 0.5 and decrease the pace at which it goes down.\n",
    "* Also please ignore first 100-200 steps of each plot - they're just oscillations because of the way moving average works.\n",
    "\n",
    "At first your agent will lose quickly. Then it will learn to suck less and at least hit the ball a few times before it loses. Finally it will learn to actually score points.\n",
    "\n",
    "__Training will take time.__ A lot of it actually. An optimistic estimate is to say it's gonna start winning (average reward > 10) after 10k steps. \n",
    "\n",
    "But hey, look on the bright side of things:\n",
    "\n",
    "![img](https://s17.postimg.cc/hy2v7r8hr/my_bot_is_training.png)"
   ]
  },
  {
   "cell_type": "markdown",
   "metadata": {
    "colab_type": "text",
    "id": "dD3apMUMOTBI"
   },
   "source": [
    "### Video"
   ]
  },
  {
   "cell_type": "code",
   "execution_count": 27,
   "metadata": {
    "colab": {},
    "colab_type": "code",
    "id": "s6TM3LLhOTBI"
   },
   "outputs": [],
   "source": [
    "agent.epsilon=0 # Don't forget to reset epsilon back to previous value if you want to go on training"
   ]
  },
  {
   "cell_type": "code",
   "execution_count": 28,
   "metadata": {
    "colab": {},
    "colab_type": "code",
    "id": "bRESiAkdOTBK"
   },
   "outputs": [],
   "source": [
    "#record sessions\n",
    "import gym.wrappers\n",
    "env_monitor = gym.wrappers.Monitor(make_env(),directory=\"dqn_videos\",force=True)\n",
    "sessions = [evaluate(env_monitor, agent, n_games=1) for _ in range(100)]\n",
    "env_monitor.close()"
   ]
  },
  {
   "cell_type": "code",
   "execution_count": 29,
   "metadata": {
    "colab": {},
    "colab_type": "code",
    "id": "IMjQLV1dOTBM"
   },
   "outputs": [
    {
     "data": {
      "text/html": [
       "\n",
       "<video width=\"640\" height=\"480\" controls>\n",
       "  <source src=\"./dqn_videos/openaigym.video.0.71754.video000064.mp4\" type=\"video/mp4\">\n",
       "</video>\n"
      ],
      "text/plain": [
       "<IPython.core.display.HTML object>"
      ]
     },
     "execution_count": 29,
     "metadata": {},
     "output_type": "execute_result"
    }
   ],
   "source": [
    "#show video\n",
    "from IPython.display import HTML\n",
    "import os\n",
    "\n",
    "video_names = list(filter(lambda s:s.endswith(\".mp4\"),os.listdir(\"./dqn_videos/\")))\n",
    "\n",
    "HTML(\"\"\"\n",
    "<video width=\"640\" height=\"480\" controls>\n",
    "  <source src=\"{}\" type=\"video/mp4\">\n",
    "</video>\n",
    "\"\"\".format(\"./dqn_videos/\"+video_names[-1])) #this may or may not be _last_ video. Try other indices"
   ]
  },
  {
   "cell_type": "markdown",
   "metadata": {
    "colab_type": "text",
    "id": "iUfuITphOTBN"
   },
   "source": [
    "## More\n",
    "\n",
    "If you want to play with DQN a bit more, here's a list of things you can try with it:\n",
    "\n",
    "### Easy:\n",
    "* Implementing __double q-learning__ shouldn't be a problem if you've already have target networks in place.\n",
    "  * You will probably need `tf.argmax` to select best actions\n",
    "  * Here's an original [article](https://arxiv.org/abs/1509.06461)\n",
    "\n",
    "* __Dueling__ architecture is also quite straightforward if you have standard DQN.\n",
    "  * You will need to change network architecture, namely the q-values layer\n",
    "  * It must now contain two heads: V(s) and A(s,a), both dense layers\n",
    "  * You should then add them up via elemwise sum layer.\n",
    "  * Here's an [article](https://arxiv.org/pdf/1511.06581.pdf)"
   ]
  },
  {
   "cell_type": "markdown",
   "metadata": {
    "colab_type": "text",
    "id": "eGfIoPD-OTBO"
   },
   "source": [
    "### Hard: Prioritized experience replay\n",
    "\n",
    "In this section, you're invited to implement prioritized experience replay\n",
    "\n",
    "* You will probably need to provide a custom data structure\n",
    "* Once pool.update is called, collect the pool.experience_replay.observations, actions, rewards and is_alive and store them in your data structure\n",
    "* You can now sample such transitions in proportion to the error (see [article](https://arxiv.org/abs/1511.05952)) for training.\n",
    "\n",
    "It's probably more convenient to explicitly declare inputs for \"sample observations\", \"sample actions\" and so on to plug them into q-learning.\n",
    "\n",
    "Prioritized (and even normal) experience replay should greatly reduce amount of game sessions you need to play in order to achieve good performance. \n",
    "\n",
    "While it's effect on runtime is limited for atari, more complicated envs (further in the course) will certainly benefit for it.\n",
    "\n",
    "There is even more out there - see this [overview article](https://arxiv.org/abs/1710.02298)."
   ]
  }
 ],
 "metadata": {
  "accelerator": "GPU",
  "colab": {
   "name": "dqn_atari.ipynb",
   "provenance": [],
   "toc_visible": true
  },
  "kernelspec": {
   "display_name": "Python 3",
   "language": "python",
   "name": "python3"
  },
  "language_info": {
   "codemirror_mode": {
    "name": "ipython",
    "version": 3
   },
   "file_extension": ".py",
   "mimetype": "text/x-python",
   "name": "python",
   "nbconvert_exporter": "python",
   "pygments_lexer": "ipython3",
   "version": "3.6.8"
  }
 },
 "nbformat": 4,
 "nbformat_minor": 1
}
